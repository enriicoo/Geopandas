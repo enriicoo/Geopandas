import geopandas as gpd
import pandas as pd
import matplotlib.pyplot as plt

mapa = gpd.read_file('https://github.com/enriicoo/GeopandasRio/blob/main/Shapefile-RJ-Bairros/Limite_Bairro.shp')
mapa = mapa.astype({"CODBAIRRO": 'int64'}).astype({"Cod_RP": 'float'}).astype({"Cod_RP": 'int64'})
mapa = mapa[['CODBAIRRO','CODRA','Cod_RP','geometry']]

ax = mapa.plot(figsize=(50, 50), edgecolor='darkblue', linewidth=0.5, alpha=0.5)
plt.show()
